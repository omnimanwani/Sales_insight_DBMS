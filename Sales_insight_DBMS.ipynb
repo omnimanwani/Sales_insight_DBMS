{
  "cells": [
    {
      "cell_type": "markdown",
      "metadata": {
        "id": "view-in-github",
        "colab_type": "text"
      },
      "source": [
        "<a href=\"https://colab.research.google.com/github/omnimanwani/Sales_insight_DBMS/blob/main/Sales_insight_DBMS.ipynb\" target=\"_parent\"><img src=\"https://colab.research.google.com/assets/colab-badge.svg\" alt=\"Open In Colab\"/></a>"
      ]
    },
    {
      "cell_type": "code",
      "execution_count": null,
      "metadata": {
        "colab": {
          "background_save": true
        },
        "id": "eoWftSCukgkO",
        "outputId": "e6afcee7-0002-4b1d-bb38-27ea72593c56"
      },
      "outputs": [
        {
          "name": "stdout",
          "output_type": "stream",
          "text": [
            "Requirement already satisfied: mysql-connector-python in /usr/local/lib/python3.10/dist-packages (8.3.0)\n"
          ]
        }
      ],
      "source": [
        "!pip install mysql-connector-python"
      ]
    },
    {
      "cell_type": "code",
      "execution_count": null,
      "metadata": {
        "colab": {
          "background_save": true
        },
        "id": "r1f9wOHhFtd6",
        "outputId": "13de5f6c-bfc5-49dd-a465-48fc5a69d295"
      },
      "outputs": [
        {
          "name": "stdout",
          "output_type": "stream",
          "text": [
            "Requirement already satisfied: pandas in /usr/local/lib/python3.10/dist-packages (1.5.3)\n",
            "Requirement already satisfied: python-dateutil>=2.8.1 in /usr/local/lib/python3.10/dist-packages (from pandas) (2.8.2)\n",
            "Requirement already satisfied: pytz>=2020.1 in /usr/local/lib/python3.10/dist-packages (from pandas) (2023.4)\n",
            "Requirement already satisfied: numpy>=1.21.0 in /usr/local/lib/python3.10/dist-packages (from pandas) (1.25.2)\n",
            "Requirement already satisfied: six>=1.5 in /usr/local/lib/python3.10/dist-packages (from python-dateutil>=2.8.1->pandas) (1.16.0)\n"
          ]
        }
      ],
      "source": [
        "!pip install pandas\n",
        "import pandas as pd"
      ]
    },
    {
      "cell_type": "code",
      "execution_count": null,
      "metadata": {
        "colab": {
          "background_save": true
        },
        "id": "IkAsDNUTlQgu",
        "outputId": "aead7f83-a1c9-407a-cdf8-d9450b704165"
      },
      "outputs": [
        {
          "name": "stdout",
          "output_type": "stream",
          "text": [
            "Reading package lists... Done\n",
            "Building dependency tree... Done\n",
            "Reading state information... Done\n",
            "mysql-server is already the newest version (8.0.36-0ubuntu0.22.04.1).\n",
            "0 upgraded, 0 newly installed, 0 to remove and 45 not upgraded.\n"
          ]
        }
      ],
      "source": [
        "!apt-get -y install mysql-server"
      ]
    },
    {
      "cell_type": "code",
      "execution_count": null,
      "metadata": {
        "colab": {
          "background_save": true
        },
        "id": "rIEhs4M6mNV7",
        "outputId": "f1984b92-3a3a-445a-e353-3213c175ebdb"
      },
      "outputs": [
        {
          "name": "stdout",
          "output_type": "stream",
          "text": [
            " * Starting MySQL database server mysqld\n",
            "   ...done.\n",
            " * /usr/bin/mysqladmin  Ver 8.0.36-0ubuntu0.22.04.1 for Linux on x86_64 ((Ubuntu))\n",
            "Copyright (c) 2000, 2024, Oracle and/or its affiliates.\n",
            "\n",
            "Oracle is a registered trademark of Oracle Corporation and/or its\n",
            "affiliates. Other names may be trademarks of their respective\n",
            "owners.\n",
            "\n",
            "Server version\t\t8.0.36-0ubuntu0.22.04.1\n",
            "Protocol version\t10\n",
            "Connection\t\tLocalhost via UNIX socket\n",
            "UNIX socket\t\t/var/run/mysqld/mysqld.sock\n",
            "Uptime:\t\t\t35 min 0 sec\n",
            "\n",
            "Threads: 4  Questions: 1066  Slow queries: 0  Opens: 177  Flush tables: 3  Open tables: 88  Queries per second avg: 0.507\n"
          ]
        }
      ],
      "source": [
        "!service mysql start\n",
        "!service mysql status"
      ]
    },
    {
      "cell_type": "code",
      "execution_count": null,
      "metadata": {
        "colab": {
          "background_save": true
        },
        "id": "TnL7Q_D52Jh5",
        "outputId": "152c9cad-f8b5-4a09-b6ea-fe3388a7a2e1"
      },
      "outputs": [
        {
          "name": "stdout",
          "output_type": "stream",
          "text": [
            "ERROR 1045 (28000): Access denied for user 'root'@'localhost' (using password: NO)\n"
          ]
        }
      ],
      "source": [
        "!mysql -e \"ALTER USER 'root'@'localhost' IDENTIFIED WITH 'mysql_native_password' BY 'root';FLUSH PRIVILEGES;\""
      ]
    },
    {
      "cell_type": "code",
      "execution_count": null,
      "metadata": {
        "colab": {
          "background_save": true
        },
        "id": "702bRsxLvNOL"
      },
      "outputs": [],
      "source": [
        "import numpy as np\n",
        "import matplotlib.pyplot as plt"
      ]
    },
    {
      "cell_type": "code",
      "execution_count": null,
      "metadata": {
        "id": "p5tU_gO19fBC"
      },
      "outputs": [],
      "source": [
        "from google.colab import drive\n",
        "drive.mount('/content/drive')"
      ]
    },
    {
      "cell_type": "code",
      "execution_count": null,
      "metadata": {
        "id": "M-kreW7ylu8-"
      },
      "outputs": [],
      "source": [
        "def menu():\n",
        "  c='y'\n",
        "  while(c=='y' or c=='Y'):\n",
        "    print(\"Choose the Query you want to analyze data on: \")\n",
        "    print(\"\\nGENERIC QUESTIONS: \\n\")\n",
        "    print(\"1: How many unique cities does the data have?\")\n",
        "    print(\"2: In which city is each branch?\")\n",
        "    print(\"\\nPRODUCT RELATED QUESTIONS: \\n\")\n",
        "    print(\"3: How many unique product lines does the data have?\")\n",
        "    print(\"4: What is the most selling product line?\")\n",
        "    print(\"5: What is the total revenue by month?\")\n",
        "    print(\"6: What month had the largest COGS?\")\n",
        "    print(\"7: What product line had the largest revenue?\")\n",
        "    print(\"8: What is the city with the largest revenue?\")\n",
        "    print(\"9: What product line had the largest VAT?\")\n",
        "    print(\"10: Fetch each product line and add a column to those product lines showing 'Good', 'Bad' based on their average sales\")\n",
        "    print(\"11: Which branch sold more products than average product sold?\")\n",
        "    print(\"12: What is the most common product line by gender?\")\n",
        "    print(\"13: What is the average rating of each product line?\")\n",
        "    print(\"14: What is the most common payment method?\")\n",
        "    print(\"\\nCUSTOMER RELATED QUESTIONS: \\n\")\n",
        "    print(\"15: How many unique customer types does the data have?\")\n",
        "    print(\"16: How many unique payment methods does the data have?\")\n",
        "    print(\"17: What is the most common customer type?\")\n",
        "    print(\"18: Which customer type buys the most?\")\n",
        "    print(\"19: What is the gender of most of the customers?\")\n",
        "    print(\"20: What is the gender distribution per branch?\")\n",
        "    print(\"21: Which time of the day do customers give most ratings?\")\n",
        "    print(\"22: Which time of the day do customers give most ratings per branch?\")\n",
        "    print(\"23: Which day of the week has the best avg ratings?\")\n",
        "    print(\"24: Which day of the week has the best average ratings per branch?\")\n",
        "    print(\"\\nSALES RELATED QUESTIONS: \\n\")\n",
        "    print(\"25: Number of sales made in each time of the day per weekday\")\n",
        "    print(\"26: Which of the customer types brings the most revenue?\")\n",
        "    print(\"27: Which city has the largest tax/VAT percent?\")\n",
        "    print(\"28: Which customer type pays the most in VAT?\")\n",
        "    print(\"Enter 0 to EXIT.\\n\")\n",
        "    choice= int(input(\"Enter your choice: \"))\n",
        "    if(choice == 1):\n",
        "      run_one()\n",
        "    elif(choice == 2):\n",
        "      run_2()\n",
        "    elif(choice == 3):\n",
        "      run_3()\n",
        "    elif(choice == 4):\n",
        "      run_4()\n",
        "    elif(choice == 5):\n",
        "      run_5()\n",
        "    elif(choice == 6):\n",
        "      run_6()\n",
        "    elif(choice == 7):\n",
        "      run_7()\n",
        "    elif(choice == 8):\n",
        "      run_8()\n",
        "    elif(choice == 9):\n",
        "      run_9()\n",
        "    elif(choice == 10):\n",
        "      run_10()\n",
        "    # elif(choice == 11):\n",
        "    # elif(choice == 12):\n",
        "    # elif(choice == 13):\n",
        "    # elif(choice == 14):\n",
        "    # elif(choice == 15):\n",
        "    # elif(choice == 16):\n",
        "    # elif(choice == 17):\n",
        "    # elif(choice == 18):\n",
        "    # elif(choice == 19):\n",
        "    # elif(choice == 20):\n",
        "    # elif(choice == 21):\n",
        "    # elif(choice == 22):\n",
        "    # elif(choice == 23):\n",
        "    # elif(choice == 24):\n",
        "    # elif(choice == 25):\n",
        "    # elif(choice == 26):\n",
        "    # elif(choice == 27):\n",
        "    # elif(choice == 28):\n",
        "    elif(choice == 0):\n",
        "      print(\"Exiting...\")\n",
        "      break\n",
        "    else:\n",
        "      print(\"\\nWrong Input, Enter again.\\n\")\n",
        "    c=input(\"\\nDo you want to continue?(y/n): \")\n"
      ]
    },
    {
      "cell_type": "code",
      "execution_count": null,
      "metadata": {
        "id": "iXme8sOD2pJn"
      },
      "outputs": [],
      "source": [
        "import mysql.connector\n",
        "mydb = mysql.connector.connect(user='root', password='root', host= 'localhost')\n",
        "cursor = mydb.cursor()\n",
        "cursor.execute(\"CREATE DATABASE IF NOT EXISTS walmartSales\")\n",
        "cursor.execute(\"USE walmartSales\")\n",
        "cursor.execute('''CREATE TABLE IF NOT EXISTS sales(\n",
        "    invoice_id VARCHAR(30) NOT NULL PRIMARY KEY,\n",
        "    branch VARCHAR(5) NOT NULL,\n",
        "    city VARCHAR(30) NOT NULL,\n",
        "    customer_type VARCHAR(30) NOT NULL,\n",
        "    gender VARCHAR(30) NOT NULL,\n",
        "    product_line VARCHAR(100) NOT NULL,\n",
        "    unit_price DECIMAL(10,2) NOT NULL,\n",
        "    quantity INT NOT NULL,\n",
        "    tax_pct FLOAT(6,4) NOT NULL,\n",
        "    total DECIMAL(12, 4) NOT NULL,\n",
        "    date DATETIME NOT NULL,\n",
        "    time TIME NOT NULL,\n",
        "    payment VARCHAR(15) NOT NULL,\n",
        "    cogs DECIMAL(10,2) NOT NULL,\n",
        "    gross_margin_pct FLOAT(11,9),\n",
        "    gross_income DECIMAL(12, 4),\n",
        "    rating FLOAT)''')"
      ]
    },
    {
      "cell_type": "code",
      "execution_count": null,
      "metadata": {
        "id": "jcU4JMogWVz3"
      },
      "outputs": [],
      "source": [
        "file_path = \"/content/drive/MyDrive/WalmartSalesData.csv.csv\"\n",
        "data = pd.read_csv(file_path)\n",
        "data['Rating'] = data['Rating'].astype(float)\n",
        "for index, row in data.iterrows():\n",
        "    cursor.execute('''INSERT INTO sales (invoice_id, branch, city, customer_type, gender, product_line, unit_price, quantity, tax_pct, total, date, time, payment, cogs, gross_margin_pct, gross_income, rating)\n",
        "                      VALUES (%s, %s, %s, %s, %s, %s, %s, %s, %s, %s, %s, %s, %s, %s, %s, %s, %s)''',\n",
        "                      (row['Invoice ID'], row['Branch'], row['City'], row['Customer type'], row['Gender'], row['Product line'],\n",
        "                      row['Unit price'], row['Quantity'], row['Tax 5%'], row['Total'], row['Date'], row['Time'],\n",
        "                      row['Payment'], row['cogs'], row['gross margin percentage'], row['gross income'], row['Rating']))"
      ]
    },
    {
      "cell_type": "code",
      "execution_count": null,
      "metadata": {
        "id": "lcD9tvlFLmzk"
      },
      "outputs": [],
      "source": [
        "cursor.execute('''CREATE VIEW unique_cities_view AS\n",
        "                    SELECT DISTINCT city FROM sales''')\n",
        "cursor.execute('''CREATE VIEW branch_city_view AS\n",
        "                    SELECT DISTINCT branch, city FROM sales''')\n",
        "cursor.execute('''CREATE VIEW unique_product_lines_view AS\n",
        "                    SELECT DISTINCT product_line FROM sales''')\n",
        "cursor.execute('''CREATE VIEW revenue_by_month_view AS\n",
        "                    SELECT MONTHNAME(date) AS month, SUM(total) AS total_revenue\n",
        "                    FROM sales\n",
        "                    GROUP BY month''')\n",
        "cursor.execute('''CREATE VIEW month_largest_cogs_view AS\n",
        "                    SELECT MONTHNAME(date) AS month, SUM(cogs) AS cogs\n",
        "                    FROM sales\n",
        "                    GROUP BY month\n",
        "                    ORDER BY cogs DESC\n",
        "                    LIMIT 1''')\n",
        "cursor.execute('''CREATE VIEW product_line_largest_revenue_view AS\n",
        "                    SELECT product_line, SUM(total) AS total_revenue\n",
        "                    FROM sales\n",
        "                    GROUP BY product_line\n",
        "                    ORDER BY total_revenue DESC\n",
        "                    LIMIT 1''')\n",
        "cursor.execute('''CREATE VIEW city_largest_revenue_view AS\n",
        "                    SELECT branch, city, SUM(total) AS total_revenue\n",
        "                    FROM sales\n",
        "                    GROUP BY city, branch\n",
        "                    ORDER BY total_revenue DESC\n",
        "                    LIMIT 1''')\n",
        "cursor.execute('''CREATE VIEW product_line_largest_vat_view AS\n",
        "                    SELECT product_line, AVG(tax_pct) AS avg_tax\n",
        "                    FROM sales\n",
        "                    GROUP BY product_line\n",
        "                    ORDER BY avg_tax DESC\n",
        "                    LIMIT 1''')\n",
        "cursor.execute('''CREATE VIEW branches_above_avg_sales_view AS\n",
        "                    SELECT branch, SUM(quantity) AS total_quantity\n",
        "                    FROM sales\n",
        "                    GROUP BY branch\n",
        "                    HAVING total_quantity > (SELECT AVG(quantity) FROM sales)''')"
      ]
    },
    {
      "cell_type": "code",
      "execution_count": null,
      "metadata": {
        "id": "WLrzX1PXs8VF"
      },
      "outputs": [],
      "source": [
        "cursor.execute('''ALTER TABLE sales ADD CONSTRAINT unit_price_positive CHECK (unit_price > 0) ''')\n",
        "cursor.execute('''ALTER TABLE sales ADD CONSTRAINT quantity_positive CHECK (quantity > 0) ''')"
      ]
    },
    {
      "cell_type": "code",
      "execution_count": null,
      "metadata": {
        "id": "b6po3d1NtokQ"
      },
      "outputs": [],
      "source": [
        "cursor.execute('''CREATE TRIGGER calculate_gross_income BEFORE INSERT ON sales\n",
        "FOR EACH ROW\n",
        "BEGIN\n",
        "    SET NEW.gross_income = (NEW.total - NEW.cogs);\n",
        "END;\n",
        "''')\n",
        "cursor.execute('''CREATE TRIGGER enforce_gender_constraint BEFORE INSERT ON sales\n",
        "FOR EACH ROW\n",
        "BEGIN\n",
        "    IF NEW.gender NOT IN ('Male', 'Female', 'Other') THEN\n",
        "        SIGNAL SQLSTATE '45000' SET MESSAGE_TEXT = 'Invalid gender specified';\n",
        "    END IF;\n",
        "END;\n",
        "''')\n",
        "cursor.execute('''CREATE TRIGGER check_tax_pct_range\n",
        "BEFORE INSERT ON sales\n",
        "FOR EACH ROW\n",
        "BEGIN\n",
        "    IF NEW.tax_pct < 0 OR NEW.tax_pct > 100 THEN\n",
        "        SIGNAL SQLSTATE '45000' SET MESSAGE_TEXT = 'Tax percentage must be between 0 and 100';\n",
        "    END IF;\n",
        "END;\n",
        "''')"
      ]
    },
    {
      "cell_type": "code",
      "execution_count": null,
      "metadata": {
        "id": "k0fDH2RN1KaX"
      },
      "outputs": [],
      "source": [
        "def run_one():\n",
        "  import mysql.connector\n",
        "  mydb = mysql.connector.connect(user='root', password='root', host= 'localhost')\n",
        "  cursor = mydb.cursor()\n",
        "  cursor.execute(\"USE walmartSales\")\n",
        "  cursor.execute('SELECT COUNT(*) AS unique_cities_count FROM unique_cities_view')\n",
        "  res = cursor.fetchall()\n",
        "  print(\"Number of Cities of Sales: \"+str(res[0][0]))\n",
        "  sales=[]\n",
        "  city=[]\n",
        "  exp=[]\n",
        "  cursor.execute('''SELECT COUNT(total) AS sale_per_city, city FROM sales GROUP BY city''')\n",
        "  result = cursor.fetchall()\n",
        "\n",
        "  for i in result:\n",
        "    sales.append(i[0])\n",
        "    city.append(i[1])\n",
        "    exp.append(0.02)\n",
        "  plt.pie(sales, labels=city, autopct='%1.1f%%', explode = exp)\n",
        "  plt.title(\"Sales of Product in Cities\")\n",
        "  plt.show()\n",
        "  mydb.commit()"
      ]
    },
    {
      "cell_type": "code",
      "execution_count": null,
      "metadata": {
        "id": "FI1cBBOT9oqi"
      },
      "outputs": [],
      "source": [
        "def run_2():\n",
        "  import mysql.connector\n",
        "  mydb = mysql.connector.connect(user='root', password='root', host= 'localhost')\n",
        "  cursor = mydb.cursor()\n",
        "  cursor.execute(\"USE walmartSales\")\n",
        "  cursor.execute('''SELECT DISTINCT branch_city_view.branch, branch_city_view.city\n",
        "                    FROM branch_city_view''')\n",
        "  print(\"Different Branches in Cities: \")\n",
        "  print(\"Branch\", \"City\")\n",
        "  for i in cursor:\n",
        "    print(i[0], i[1])\n",
        "  mydb.commit()"
      ]
    },
    {
      "cell_type": "code",
      "execution_count": null,
      "metadata": {
        "id": "_5Pva0zpAOnm"
      },
      "outputs": [],
      "source": [
        "def run_3():\n",
        "  import mysql.connector\n",
        "  mydb = mysql.connector.connect(user='root', password='root', host= 'localhost')\n",
        "  cursor = mydb.cursor()\n",
        "  cursor.execute(\"USE walmartSales\")\n",
        "  cursor.execute(\"SELECT COUNT(*) AS unique_product_lines_count FROM unique_product_lines_view \")\n",
        "  res = cursor.fetchall()\n",
        "  print(\"Number of Unique Product Lines in Data: \"+str(res[0][0]))\n",
        "  mydb.commit()"
      ]
    },
    {
      "cell_type": "code",
      "execution_count": null,
      "metadata": {
        "id": "bbIW9NcfAXZN"
      },
      "outputs": [],
      "source": [
        "def run_4():\n",
        "  import mysql.connector\n",
        "  mydb = mysql.connector.connect(user='root', password='root', host= 'localhost')\n",
        "  cursor = mydb.cursor()\n",
        "  cursor.execute(\"USE walmartSales\")\n",
        "  cursor.execute('''SELECT SUM(quantity) AS total_quantity, product_line\n",
        "                    FROM sales GROUP BY product_line\n",
        "                    ORDER BY total_quantity DESC LIMIT 1''')\n",
        "  res = cursor.fetchall()\n",
        "  print(\"Most Selling Product line is \"+ str(res[0][1]+\" with sale of total Quantity \"+ str(res[0][0])))\n",
        "  cursor.execute('''SELECT SUM(quantity) AS total_quantity, product_line\n",
        "                    FROM sales GROUP BY product_line\n",
        "                    ORDER BY total_quantity DESC''')\n",
        "  result=cursor.fetchall()\n",
        "  qty =[]\n",
        "  prod =[]\n",
        "  exp=[]\n",
        "  for i in result:\n",
        "    qty.append(i[0])\n",
        "    prod.append(i[1])\n",
        "    exp.append(0.02)\n",
        "  plt.pie(qty, labels=prod, autopct='%1.1f%%', explode=exp)\n",
        "  plt.title(\"Sales of Product Lines\")\n",
        "  plt.show()\n",
        "\n",
        "  mydb.commit()"
      ]
    },
    {
      "cell_type": "code",
      "execution_count": null,
      "metadata": {
        "id": "Y481UGh8AZhM"
      },
      "outputs": [],
      "source": [
        "def run_5():\n",
        "    mydb = mysql.connector.connect(user='root', password='root', host='localhost')\n",
        "    cursor = mydb.cursor()\n",
        "    cursor.execute(\"USE walmartSales\")\n",
        "    cursor.execute('''SELECT * FROM revenue_by_month_view''')\n",
        "    res = cursor.fetchall()\n",
        "    rev = []\n",
        "    month = []\n",
        "    print('Month Name', 'Revenue')\n",
        "    for i in res:\n",
        "        print(i[0],\" \", i[1])\n",
        "        month.append(i[0])\n",
        "        rev.append(i[1])\n",
        "    plt.plot(month, rev)\n",
        "    plt.xlabel(\"Months\")\n",
        "    plt.ylabel(\"Revenue every month\")\n",
        "    plt.title(\"Total Revenue by month\")\n",
        "    plt.show()\n",
        "\n",
        "    mydb.commit()"
      ]
    },
    {
      "cell_type": "code",
      "execution_count": null,
      "metadata": {
        "id": "GC3BpnHKAbcY"
      },
      "outputs": [],
      "source": [
        "def run_6():\n",
        "  import mysql.connector\n",
        "  mydb = mysql.connector.connect(user='root', password='root', host= 'localhost')\n",
        "  cursor = mydb.cursor()\n",
        "  cursor.execute(\"USE walmartSales\")\n",
        "  cursor.execute(\"SELECT * FROM month_largest_cogs_view \")\n",
        "  res = cursor.fetchall()\n",
        "  print(str(res[0][0])+\" is the month with largest COGS with \"+str(res[0][1])+\" COGS.\")\n",
        "  cursor.execute('''SELECT MONTHNAME(date) AS month, SUM(cogs) AS cogs\n",
        "                    FROM sales\n",
        "                    GROUP BY month''')\n",
        "  result = cursor.fetchall()\n",
        "  cogs=[]\n",
        "  month=[]\n",
        "  for i in result:\n",
        "    month.append(i[0])\n",
        "    cogs.append(i[1])\n",
        "\n",
        "  plt.bar(month, cogs)\n",
        "  plt.xlabel(\"Months\")\n",
        "  plt.ylabel(\"COGS\")\n",
        "  plt.title(\"COGS per month\")\n",
        "  plt.show()\n",
        "\n",
        "  mydb.commit()"
      ]
    },
    {
      "cell_type": "code",
      "execution_count": null,
      "metadata": {
        "id": "TRE9T1kJgzKI"
      },
      "outputs": [],
      "source": [
        "def run_7():\n",
        "  import mysql.connector\n",
        "  mydb = mysql.connector.connect(user='root', password='root', host= 'localhost')\n",
        "  cursor = mydb.cursor()\n",
        "  cursor.execute(\"USE walmartSales\")\n",
        "  cursor.execute(\"SELECT * FROM product_line_largest_revenue_view\")\n",
        "  res = cursor.fetchall()\n",
        "  print(str(res[0][0])+\" is the product line with largest revenue of \"+str(res[0][1]))\n",
        "  cursor.execute('''SELECT product_line, SUM(total) AS total_rev FROM sales GROUP BY product_line''')\n",
        "  result = cursor.fetchall()\n",
        "  pl=[]\n",
        "  rev=[]\n",
        "  for i in result:\n",
        "    pl.append(i[0])\n",
        "    rev.append(i[1])\n",
        "\n",
        "  plt.bar(pl, rev)\n",
        "  plt.xlabel(\"Product Lines\")\n",
        "  plt.ylabel(\"Total Revenue\")\n",
        "  plt.title(\"Revenue generated by each Product Line\")\n",
        "  plt.xticks(rotation=90)\n",
        "  for i in range(len(pl)):\n",
        "        plt.text(i, rev[i], rev[i], ha = 'center')\n",
        "  plt.show()\n",
        "\n",
        "  mydb.commit()"
      ]
    },
    {
      "cell_type": "code",
      "execution_count": null,
      "metadata": {
        "id": "nsBgyzd-l0B3"
      },
      "outputs": [],
      "source": [
        "def run_8():\n",
        "  import mysql.connector\n",
        "  mydb = mysql.connector.connect(user='root', password='root', host= 'localhost')\n",
        "  cursor = mydb.cursor()\n",
        "  cursor.execute(\"USE walmartSales\")\n",
        "  cursor.execute(\"SELECT * FROM city_largest_revenue_view\")\n",
        "  res = cursor.fetchall()\n",
        "  print(str(res[0][0])+\" is the branch of \"+str(res[0][1])+\" with largest revenue of \"+str(res[0][2]))\n",
        "  cursor.execute('''SELECT branch, city, SUM(total) AS total_rev FROM sales GROUP BY city, branch''')\n",
        "  result = cursor.fetchall()\n",
        "  city=[]\n",
        "  rev=[]\n",
        "  for i in result:\n",
        "    city.append(i[1])\n",
        "    rev.append(i[2])\n",
        "\n",
        "  plt.bar(city, rev)\n",
        "  plt.xlabel(\"Cities\")\n",
        "  plt.ylabel(\"Total Revenue\")\n",
        "  plt.title(\"Revenue generated by each City\")\n",
        "  plt.xticks(rotation=90)\n",
        "  for i in range(len(city)):\n",
        "        plt.text(i, rev[i], rev[i], ha = 'center')\n",
        "  plt.show()\n",
        "\n",
        "  mydb.commit()"
      ]
    },
    {
      "cell_type": "code",
      "execution_count": null,
      "metadata": {
        "id": "6h1bKjb5qaSD"
      },
      "outputs": [],
      "source": [
        "def run_9():\n",
        "  import mysql.connector\n",
        "  mydb = mysql.connector.connect(user = 'root', password = 'root', host = 'localhost')\n",
        "  cursor = mydb.cursor()\n",
        "  cursor.execute(\"USE walmartSales\")\n",
        "  cursor.execute(\"SELECT * FROM product_line_largest_vat_view\")\n",
        "  res = cursor.fetchall()\n",
        "  print(str(res[0][0])+\" product line has largest VAT with value \" +str(res[0][1]))\n",
        "  mydb.commit()"
      ]
    },
    {
      "cell_type": "code",
      "execution_count": null,
      "metadata": {
        "id": "L8wPC0N9uMk1"
      },
      "outputs": [],
      "source": [
        "def run_10():\n",
        "  import mysql.connector\n",
        "  mydb = mysql.connector.connect(user = 'root', password = 'root', host = 'localhost')\n",
        "  cursor = mydb.cursor()\n",
        "  cursor.execute(\"USE walmartSales\")\n",
        "  cursor.execute('''SELECT product_line,\n",
        "    CASE\n",
        "        WHEN avg_quantity > (SELECT AVG(quantity) FROM sales) THEN 'Good'\n",
        "        ELSE 'Bad'\n",
        "    END AS remark\n",
        "FROM\n",
        "    (SELECT\n",
        "        product_line,\n",
        "        AVG(quantity) AS avg_quantity\n",
        "    FROM\n",
        "        sales\n",
        "    GROUP BY\n",
        "        product_line) AS product_line_avg_quantity''')\n",
        "  result = cursor.fetchall()\n",
        "  qty =[]\n",
        "  remark =[]\n",
        "  exp=[]\n",
        "  for i in result:\n",
        "    qty.append(i[0])\n",
        "    remark.append(i[1])\n",
        "    exp.append(0.02)\n",
        "  plt.pie(qty, labels=remark, autopct='%1.1f%%', explode=exp)\n",
        "  plt.title(\"Average Sales of Product Lines\")\n",
        "  plt.show()\n",
        "  for i in result:\n",
        "    print(str(i[0])+\" has \"+str(i[1])+\" average sales.\")\n",
        "\n",
        "\n",
        "  mydb.commit()"
      ]
    },
    {
      "cell_type": "code",
      "execution_count": null,
      "metadata": {
        "colab": {
          "background_save": true,
          "base_uri": "https://localhost:8080/"
        },
        "id": "4n7Mz5PV1fu6",
        "outputId": "0cba3d94-5068-4a24-bec9-ee81bb1f3d3a"
      },
      "outputs": [
        {
          "name": "stdout",
          "output_type": "stream",
          "text": [
            "Choose the Query you want to analyze data on: \n",
            "\n",
            "GENERIC QUESTIONS: \n",
            "\n",
            "1: How many unique cities does the data have?\n",
            "2: In which city is each branch?\n",
            "\n",
            "PRODUCT RELATED QUESTIONS: \n",
            "\n",
            "3: How many unique product lines does the data have?\n",
            "4: What is the most selling product line?\n",
            "5: What is the total revenue by month?\n",
            "6: What month had the largest COGS?\n",
            "7: What product line had the largest revenue?\n",
            "8: What is the city with the largest revenue?\n",
            "9: What product line had the largest VAT?\n",
            "10: Fetch each product line and add a column to those product lines showing 'Good', 'Bad' based on their average sales\n",
            "11: Which branch sold more products than average product sold?\n",
            "12: What is the most common product line by gender?\n",
            "13: What is the average rating of each product line?\n",
            "14: What is the most common payment method?\n",
            "\n",
            "CUSTOMER RELATED QUESTIONS: \n",
            "\n",
            "15: How many unique customer types does the data have?\n",
            "16: How many unique payment methods does the data have?\n",
            "17: What is the most common customer type?\n",
            "18: Which customer type buys the most?\n",
            "19: What is the gender of most of the customers?\n",
            "20: What is the gender distribution per branch?\n",
            "21: Which time of the day do customers give most ratings?\n",
            "22: Which time of the day do customers give most ratings per branch?\n",
            "23: Which day of the week has the best avg ratings?\n",
            "24: Which day of the week has the best average ratings per branch?\n",
            "\n",
            "SALES RELATED QUESTIONS: \n",
            "\n",
            "25: Number of sales made in each time of the day per weekday\n",
            "26: Which of the customer types brings the most revenue?\n",
            "27: Which city has the largest tax/VAT percent?\n",
            "28: Which customer type pays the most in VAT?\n",
            "Enter 0 to EXIT.\n",
            "\n",
            "Number of Cities of Sales: 3\n"
          ]
        },
        {
          "data": {
            "image/png": "[encoded data removed]",
            "text/plain": [
              "<Figure size 640x480 with 1 Axes>"
            ]
          },
          "metadata": {},
          "output_type": "display_data"
        }
      ],
      "source": [
        "menu()"
      ]
    }
  ],
  "metadata": {
    "colab": {
      "provenance": [],
      "include_colab_link": true
    },
    "kernelspec": {
      "display_name": "Python 3",
      "name": "python3"
    },
    "language_info": {
      "name": "python"
    }
  },
  "nbformat": 4,
  "nbformat_minor": 0
}